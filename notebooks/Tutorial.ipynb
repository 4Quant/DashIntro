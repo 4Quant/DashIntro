{
 "cells": [
  {
   "cell_type": "markdown",
   "metadata": {},
   "source": [
    "# Simple Demo\n",
    "A few of the Dash examples packaged together in a simple Jupyter notebook to make interactive testing easier"
   ]
  },
  {
   "cell_type": "code",
   "execution_count": 1,
   "metadata": {},
   "outputs": [],
   "source": [
    "import dash\n",
    "import dash_core_components as dcc\n",
    "import dash_html_components as html\n",
    "from dash.dependencies import Input, Output"
   ]
  },
  {
   "cell_type": "code",
   "execution_count": 2,
   "metadata": {},
   "outputs": [],
   "source": [
    "from IPython import display\n",
    "def show_app(app, port = 9999, width = 700, height = 350, offline = False):\n",
    "    url = 'http://localhost:%d' % port\n",
    "    iframe = '<iframe src=\"{url}\" width={width} height={height}></iframe>'.format(url = url, \n",
    "                                                                                  width = width, \n",
    "                                                                                  height = height)\n",
    "    display.display_html(iframe, raw = True)\n",
    "    if offline:\n",
    "        app.css.config.serve_locally = True\n",
    "        app.scripts.config.serve_locally = True\n",
    "    return app.run_server(debug=False, # needs to be false in Jupyter\n",
    "                          host = '0.0.0.0',\n",
    "                          port=port)"
   ]
  },
  {
   "cell_type": "code",
   "execution_count": 4,
   "metadata": {},
   "outputs": [],
   "source": [
    "app_simple = dash.Dash()\n",
    "\n",
    "app_simple.layout = html.Div(children=[\n",
    "    html.H1(children='Hello Dash'),\n",
    "\n",
    "    html.Div(children='''\n",
    "        Dash: A web application framework for Python.\n",
    "    '''),\n",
    "\n",
    "    dcc.Graph(\n",
    "        id='example-graph',\n",
    "        figure={\n",
    "            'data': [\n",
    "                {'x': [1, 2, 3], 'y': [4, 1, 2], 'type': 'bar', 'name': 'SF'},\n",
    "                {'x': [1, 2, 3], 'y': [2, 4, 5], 'type': 'bar', 'name': u'Montréal'},\n",
    "            ],\n",
    "            'layout': {\n",
    "                'title': 'Dash Data Visualization'\n",
    "            }\n",
    "        }\n",
    "    )\n",
    "])"
   ]
  },
  {
   "cell_type": "code",
   "execution_count": 5,
   "metadata": {
    "scrolled": false
   },
   "outputs": [
    {
     "data": {
      "text/html": [
       "<iframe src=\"http://localhost:9999\" width=700 height=350></iframe>"
      ]
     },
     "metadata": {},
     "output_type": "display_data"
    },
    {
     "name": "stderr",
     "output_type": "stream",
     "text": [
      " * Running on http://0.0.0.0:9999/ (Press CTRL+C to quit)\n",
      "172.17.0.1 - - [05/Oct/2017 17:41:08] \"GET / HTTP/1.1\" 200 -\n",
      "172.17.0.1 - - [05/Oct/2017 17:41:09] \"GET /_dash-layout HTTP/1.1\" 200 -\n",
      "172.17.0.1 - - [05/Oct/2017 17:41:09] \"GET /_dash-dependencies HTTP/1.1\" 200 -\n"
     ]
    }
   ],
   "source": [
    "show_app(app_simple)"
   ]
  },
  {
   "cell_type": "code",
   "execution_count": 6,
   "metadata": {},
   "outputs": [],
   "source": [
    "import pandas as pd\n",
    "\n",
    "df = pd.read_csv(\n",
    "    'https://gist.githubusercontent.com/chriddyp/'\n",
    "    'c78bf172206ce24f77d6363a2d754b59/raw/'\n",
    "    'c353e8ef842413cae56ae3920b8fd78468aa4cb2/'\n",
    "    'usa-agricultural-exports-2011.csv')\n",
    "\n",
    "def generate_table(dataframe, max_rows=10):\n",
    "    return html.Table(\n",
    "        # Header\n",
    "        [html.Tr([html.Th(col) for col in dataframe.columns])] +\n",
    "\n",
    "        # Body\n",
    "        [html.Tr([\n",
    "            html.Td(dataframe.iloc[i][col]) for col in dataframe.columns\n",
    "        ]) for i in range(min(len(dataframe), max_rows))]\n",
    "    )\n",
    "\n",
    "app_table = dash.Dash()\n",
    "\n",
    "app_table.layout = html.Div(children=[\n",
    "    html.H4(children='US Agriculture Exports (2011)'),\n",
    "        \n",
    "    generate_table(df)\n",
    "])"
   ]
  },
  {
   "cell_type": "code",
   "execution_count": 7,
   "metadata": {},
   "outputs": [
    {
     "data": {
      "text/html": [
       "<iframe src=\"http://localhost:9999\" width=700 height=350></iframe>"
      ]
     },
     "metadata": {},
     "output_type": "display_data"
    },
    {
     "name": "stderr",
     "output_type": "stream",
     "text": [
      " * Running on http://0.0.0.0:9999/ (Press CTRL+C to quit)\n",
      "172.17.0.1 - - [05/Oct/2017 17:41:32] \"GET / HTTP/1.1\" 200 -\n",
      "172.17.0.1 - - [05/Oct/2017 17:41:32] \"GET /_dash-layout HTTP/1.1\" 200 -\n",
      "172.17.0.1 - - [05/Oct/2017 17:41:32] \"GET /_dash-dependencies HTTP/1.1\" 200 -\n"
     ]
    }
   ],
   "source": [
    "show_app(app_table)"
   ]
  },
  {
   "cell_type": "code",
   "execution_count": 17,
   "metadata": {},
   "outputs": [],
   "source": [
    "import pandas as pd\n",
    "\n",
    "df = pd.read_csv(\n",
    "    'https://gist.githubusercontent.com/chriddyp/'\n",
    "    'c78bf172206ce24f77d6363a2d754b59/raw/'\n",
    "    'c353e8ef842413cae56ae3920b8fd78468aa4cb2/'\n",
    "    'usa-agricultural-exports-2011.csv')\n",
    "\n",
    "\n",
    "app_pd_table = dash.Dash()\n",
    "\n",
    "app_pd_table.layout = html.Div(children=[\n",
    "    html.H4(children='US Agriculture Exports (2011)'),\n",
    "    html.Source(src = df.to_html())\n",
    "])"
   ]
  },
  {
   "cell_type": "code",
   "execution_count": 18,
   "metadata": {
    "scrolled": true
   },
   "outputs": [
    {
     "data": {
      "text/html": [
       "<iframe src=\"http://localhost:9999\" width=700 height=350></iframe>"
      ]
     },
     "metadata": {},
     "output_type": "display_data"
    },
    {
     "name": "stderr",
     "output_type": "stream",
     "text": [
      " * Running on http://0.0.0.0:9999/ (Press CTRL+C to quit)\n",
      "172.17.0.1 - - [05/Oct/2017 15:52:37] \"GET / HTTP/1.1\" 200 -\n",
      "172.17.0.1 - - [05/Oct/2017 15:52:38] \"GET /_dash-layout HTTP/1.1\" 200 -\n",
      "172.17.0.1 - - [05/Oct/2017 15:52:38] \"GET /_dash-dependencies HTTP/1.1\" 200 -\n"
     ]
    }
   ],
   "source": [
    "show_app(app_pd_table)"
   ]
  },
  {
   "cell_type": "code",
   "execution_count": 8,
   "metadata": {},
   "outputs": [],
   "source": [
    "app_inter = dash.Dash()\n",
    "\n",
    "app_inter.layout = html.Div([\n",
    "    dcc.Input(id='my-id', value='initial value', type=\"text\"),\n",
    "    html.Div(id='my-div')\n",
    "])\n",
    "\n",
    "@app_inter.callback(\n",
    "    Output(component_id='my-div', component_property='children'),\n",
    "    [Input(component_id='my-id', component_property='value')]\n",
    ")\n",
    "def update_output_div(input_value):\n",
    "    return 'You\\'ve entered \"{}\"'.format(input_value)"
   ]
  },
  {
   "cell_type": "code",
   "execution_count": 9,
   "metadata": {
    "scrolled": true
   },
   "outputs": [
    {
     "data": {
      "text/html": [
       "<iframe src=\"http://localhost:9999\" width=700 height=350></iframe>"
      ]
     },
     "metadata": {},
     "output_type": "display_data"
    },
    {
     "name": "stderr",
     "output_type": "stream",
     "text": [
      " * Running on http://0.0.0.0:9999/ (Press CTRL+C to quit)\n",
      "172.17.0.1 - - [05/Oct/2017 17:41:47] \"GET / HTTP/1.1\" 200 -\n",
      "172.17.0.1 - - [05/Oct/2017 17:41:48] \"GET /_dash-layout HTTP/1.1\" 200 -\n",
      "172.17.0.1 - - [05/Oct/2017 17:41:48] \"GET /_dash-dependencies HTTP/1.1\" 200 -\n",
      "172.17.0.1 - - [05/Oct/2017 17:41:48] \"POST /_dash-update-component HTTP/1.1\" 200 -\n",
      "172.17.0.1 - - [05/Oct/2017 17:41:52] \"POST /_dash-update-component HTTP/1.1\" 200 -\n",
      "172.17.0.1 - - [05/Oct/2017 17:41:52] \"POST /_dash-update-component HTTP/1.1\" 200 -\n",
      "172.17.0.1 - - [05/Oct/2017 17:41:52] \"POST /_dash-update-component HTTP/1.1\" 200 -\n",
      "172.17.0.1 - - [05/Oct/2017 17:41:52] \"POST /_dash-update-component HTTP/1.1\" 200 -\n",
      "172.17.0.1 - - [05/Oct/2017 17:41:53] \"POST /_dash-update-component HTTP/1.1\" 200 -\n"
     ]
    }
   ],
   "source": [
    "show_app(app_inter)"
   ]
  },
  {
   "cell_type": "markdown",
   "metadata": {},
   "source": [
    "# Incorporating Matplotlib Plots\n",
    "We convert the figure to a data-uri to show it"
   ]
  },
  {
   "cell_type": "code",
   "execution_count": 10,
   "metadata": {},
   "outputs": [],
   "source": [
    "%matplotlib inline\n",
    "import matplotlib.pyplot as plt\n",
    "import numpy as np\n",
    "from io import BytesIO\n",
    "import base64\n",
    "def fig_to_uri(in_fig, close_all=True, **save_args):\n",
    "    # type: (plt.Figure) -> str\n",
    "    \"\"\"\n",
    "    Save a figure as a URI\n",
    "    :param in_fig:\n",
    "    :return:\n",
    "    \"\"\"\n",
    "    out_img = BytesIO()\n",
    "    in_fig.savefig(out_img, format='png', **save_args)\n",
    "    if close_all:\n",
    "        in_fig.clf()\n",
    "        plt.close('all')\n",
    "    out_img.seek(0)  # rewind file\n",
    "    encoded = base64.b64encode(out_img.read()).decode(\"ascii\").replace(\"\\n\", \"\")\n",
    "    return \"data:image/png;base64,{}\".format(encoded)\n",
    "app_iplot = dash.Dash()\n",
    "\n",
    "app_iplot.layout = html.Div([\n",
    "    dcc.Input(id='plot_title', value='Type title...', type=\"text\"),\n",
    "    dcc.Slider(\n",
    "        id='box_size',\n",
    "        min=1,\n",
    "        max=10,\n",
    "        value=4,\n",
    "        step=1,\n",
    "        marks=list(range(0, 10))\n",
    "    ),\n",
    "    html.Div([html.Img(id = 'cur_plot', src = '')],\n",
    "             id='plot_div')\n",
    "])\n",
    "\n",
    "@app_iplot.callback(\n",
    "    Output(component_id='cur_plot', component_property='src'),\n",
    "    [Input(component_id='plot_title', component_property='value'), Input(component_id = 'box_size', component_property='value')]\n",
    ")\n",
    "def update_graph(input_value, n_val):\n",
    "    fig, ax1 = plt.subplots(1,1)\n",
    "    np.random.seed(len(input_value))\n",
    "    ax1.matshow(np.random.uniform(-1,1, size = (n_val,n_val)))\n",
    "    ax1.set_title(input_value)\n",
    "    out_url = fig_to_uri(fig)\n",
    "    return out_url"
   ]
  },
  {
   "cell_type": "code",
   "execution_count": 11,
   "metadata": {
    "scrolled": false
   },
   "outputs": [
    {
     "data": {
      "text/html": [
       "<iframe src=\"http://localhost:9999\" width=700 height=350></iframe>"
      ]
     },
     "metadata": {},
     "output_type": "display_data"
    },
    {
     "name": "stderr",
     "output_type": "stream",
     "text": [
      " * Running on http://0.0.0.0:9999/ (Press CTRL+C to quit)\n",
      "172.17.0.1 - - [05/Oct/2017 17:42:29] \"GET / HTTP/1.1\" 200 -\n",
      "172.17.0.1 - - [05/Oct/2017 17:42:29] \"GET / HTTP/1.1\" 200 -\n",
      "172.17.0.1 - - [05/Oct/2017 17:42:30] \"GET /_dash-layout HTTP/1.1\" 200 -\n",
      "172.17.0.1 - - [05/Oct/2017 17:42:30] \"GET /_dash-dependencies HTTP/1.1\" 200 -\n",
      "172.17.0.1 - - [05/Oct/2017 17:42:30] \"POST /_dash-update-component HTTP/1.1\" 200 -\n",
      "172.17.0.1 - - [05/Oct/2017 17:42:31] \"GET /_dash-layout HTTP/1.1\" 200 -\n",
      "172.17.0.1 - - [05/Oct/2017 17:42:31] \"GET /_dash-dependencies HTTP/1.1\" 200 -\n",
      "172.17.0.1 - - [05/Oct/2017 17:42:31] \"POST /_dash-update-component HTTP/1.1\" 200 -\n",
      "172.17.0.1 - - [05/Oct/2017 17:42:31] \"GET /favicon.ico HTTP/1.1\" 200 -\n",
      "172.17.0.1 - - [05/Oct/2017 17:42:34] \"POST /_dash-update-component HTTP/1.1\" 200 -\n",
      "172.17.0.1 - - [05/Oct/2017 17:42:37] \"POST /_dash-update-component HTTP/1.1\" 200 -\n",
      "172.17.0.1 - - [05/Oct/2017 17:42:37] \"POST /_dash-update-component HTTP/1.1\" 200 -\n",
      "172.17.0.1 - - [05/Oct/2017 17:42:37] \"POST /_dash-update-component HTTP/1.1\" 200 -\n",
      "172.17.0.1 - - [05/Oct/2017 17:42:38] \"POST /_dash-update-component HTTP/1.1\" 200 -\n",
      "172.17.0.1 - - [05/Oct/2017 17:42:40] \"POST /_dash-update-component HTTP/1.1\" 200 -\n",
      "172.17.0.1 - - [05/Oct/2017 17:42:41] \"POST /_dash-update-component HTTP/1.1\" 200 -\n"
     ]
    }
   ],
   "source": [
    "show_app(app_iplot)"
   ]
  },
  {
   "cell_type": "markdown",
   "metadata": {},
   "source": [
    "# Interactive 2D Plots\n",
    "Here you can click on the plot and it will be updated based on your click"
   ]
  },
  {
   "cell_type": "code",
   "execution_count": 12,
   "metadata": {},
   "outputs": [],
   "source": [
    "import plotly.graph_objs as go\n",
    "import plotly.plotly as py\n",
    "import numpy as np\n",
    "\n",
    "app_iplotly = dash.Dash()\n",
    "\n",
    "app_iplotly.layout = html.Div([\n",
    "    html.Div([\n",
    "            html.Div(id='click_info'),\n",
    "             dcc.Graph(id='cur_plot', animate=False)\n",
    "            ],\n",
    "             id='plot_div')\n",
    "])\n",
    "\n",
    "\n",
    "def _simple_image(xval, yval, as_uri = True):\n",
    "    print(xval, yval, 'creating')\n",
    "    lin_x = np.arange(512)\n",
    "    lin_y = np.arange(512)\n",
    "    xx, yy = np.meshgrid(lin_y, lin_x)\n",
    "    out_mat = np.sqrt(np.square(xx-xval)+np.square(yy-yval))\n",
    "    if as_uri:\n",
    "        fig, ax1 = plt.matshow(out_mat)\n",
    "        out_uri = fig_to_uri(fig)\n",
    "        return dict(source = out_uri,\n",
    "                    x = lin_x.min(),\n",
    "                    sizex = lin_x.max()-lin_x.min(),\n",
    "                    y = lin_y.max(),\n",
    "                    sizey = lin_y.max() - lin_y.min(),\n",
    "                    xref= \"x\",\n",
    "                    yref= \"y\",\n",
    "                    sizing= \"stretch\",\n",
    "                    opacity= 0.5,\n",
    "                    layer= \"below\"\n",
    "                   )\n",
    "    else:\n",
    "        return out_mat\n",
    "\n",
    "\n",
    "def update_graph(x_val, y_val):\n",
    "    traces = [go.Heatmap(z=_simple_image(x_val, y_val, as_uri = False),\n",
    "                        #colorscale='Viridis'\n",
    "                        )]\n",
    "    if (x_val>0) or (y_val>0):\n",
    "        traces += [go.Scatter(x = [x_val], y = [y_val])]\n",
    "    \n",
    "    layout = go.Layout(\n",
    "        #images= [_simple_image(x_val,y_val)],\n",
    "        annotations=[\n",
    "        dict(                            # all \"annotation\" attributes: /python/reference/#layout-annotations\n",
    "            text=\"Current Position ({}, {})\".format(x_val, y_val),    # /python/reference/#layout-annotations-text\n",
    "            x=x_val,                         # /python/reference/#layout-annotations-x\n",
    "            xref=\"y\",                # /python/reference/#layout-annotations-xref\n",
    "            y=y_val,                         # /python/reference/#layout-annotations-y\n",
    "            yref=\"y\"                 # /python/reference/#layout-annotations-yref\n",
    "        )\n",
    "    ]\n",
    "                      )\n",
    "    return dict(data = traces, layout=layout)\n",
    "\n",
    "def get_hover_info(hover_data):\n",
    "    if hover_data is not None:\n",
    "        clicks = hover_data.get('points', [])\n",
    "        if len(clicks)>0:\n",
    "            x, y = clicks[0].get('x', 0), clicks[0].get('y', 0)\n",
    "            print(x,y, 'hovering')\n",
    "            return x,y\n",
    "    return 0,0\n",
    "\n",
    "@app_iplotly.callback(\n",
    "    Output(component_id='cur_plot', component_property='figure'),\n",
    "    [Input(component_id='cur_plot', component_property='clickData')]\n",
    ")\n",
    "def update_click_info(hover_data):\n",
    "    return update_graph(*get_hover_info(hover_data))"
   ]
  },
  {
   "cell_type": "code",
   "execution_count": null,
   "metadata": {},
   "outputs": [
    {
     "data": {
      "text/html": [
       "<iframe src=\"http://localhost:9999\" width=700 height=350></iframe>"
      ]
     },
     "metadata": {},
     "output_type": "display_data"
    },
    {
     "name": "stderr",
     "output_type": "stream",
     "text": [
      " * Running on http://0.0.0.0:9999/ (Press CTRL+C to quit)\n",
      "172.17.0.1 - - [05/Oct/2017 17:42:52] \"GET / HTTP/1.1\" 200 -\n",
      "172.17.0.1 - - [05/Oct/2017 17:42:53] \"GET /_dash-layout HTTP/1.1\" 200 -\n",
      "172.17.0.1 - - [05/Oct/2017 17:42:53] \"GET /_dash-dependencies HTTP/1.1\" 200 -\n"
     ]
    },
    {
     "name": "stdout",
     "output_type": "stream",
     "text": [
      "0 0 creating\n"
     ]
    },
    {
     "name": "stderr",
     "output_type": "stream",
     "text": [
      "172.17.0.1 - - [05/Oct/2017 17:42:54] \"POST /_dash-update-component HTTP/1.1\" 200 -\n"
     ]
    },
    {
     "name": "stdout",
     "output_type": "stream",
     "text": [
      "228 322 hovering\n",
      "228 322 creating\n"
     ]
    },
    {
     "name": "stderr",
     "output_type": "stream",
     "text": [
      "172.17.0.1 - - [05/Oct/2017 17:42:58] \"POST /_dash-update-component HTTP/1.1\" 200 -\n"
     ]
    },
    {
     "name": "stdout",
     "output_type": "stream",
     "text": [
      "382 225 hovering\n",
      "382 225 creating\n"
     ]
    },
    {
     "name": "stderr",
     "output_type": "stream",
     "text": [
      "172.17.0.1 - - [05/Oct/2017 17:43:08] \"POST /_dash-update-component HTTP/1.1\" 200 -\n"
     ]
    },
    {
     "name": "stdout",
     "output_type": "stream",
     "text": [
      "351 178 hovering\n",
      "351 178 creating\n"
     ]
    },
    {
     "name": "stderr",
     "output_type": "stream",
     "text": [
      "172.17.0.1 - - [05/Oct/2017 17:43:10] \"POST /_dash-update-component HTTP/1.1\" 200 -\n"
     ]
    },
    {
     "name": "stdout",
     "output_type": "stream",
     "text": [
      "96 326 hovering\n",
      "96 326 creating\n"
     ]
    },
    {
     "name": "stderr",
     "output_type": "stream",
     "text": [
      "172.17.0.1 - - [05/Oct/2017 17:43:11] \"POST /_dash-update-component HTTP/1.1\" 200 -\n"
     ]
    },
    {
     "name": "stdout",
     "output_type": "stream",
     "text": [
      "367 252 hovering\n",
      "367 252 creating\n"
     ]
    },
    {
     "name": "stderr",
     "output_type": "stream",
     "text": [
      "172.17.0.1 - - [05/Oct/2017 17:51:20] \"POST /_dash-update-component HTTP/1.1\" 200 -\n"
     ]
    }
   ],
   "source": [
    "show_app(app_iplotly)"
   ]
  },
  {
   "cell_type": "code",
   "execution_count": null,
   "metadata": {},
   "outputs": [],
   "source": []
  }
 ],
 "metadata": {
  "anaconda-cloud": {},
  "kernelspec": {
   "display_name": "Python 3",
   "language": "python",
   "name": "python3"
  },
  "language_info": {
   "codemirror_mode": {
    "name": "ipython",
    "version": 3
   },
   "file_extension": ".py",
   "mimetype": "text/x-python",
   "name": "python",
   "nbconvert_exporter": "python",
   "pygments_lexer": "ipython3",
   "version": "3.5.2"
  }
 },
 "nbformat": 4,
 "nbformat_minor": 1
}
